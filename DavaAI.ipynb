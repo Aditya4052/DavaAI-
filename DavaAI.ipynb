{
  "cells": [
    {
      "cell_type": "code",
      "execution_count": null,
      "metadata": {
        "id": "Egwj_2Gy781Q"
      },
      "outputs": [],
      "source": [
        "pip install transformers torch faiss-cpu\n",
        "pip install sentence-transformers\n",
        "pip install scikit-learn\n",
        "pip install flask\n"
      ]
    },
    {
      "cell_type": "markdown",
      "source": [
        "BERT"
      ],
      "metadata": {
        "id": "1MTQK3Z2ulgV"
      }
    },
    {
      "cell_type": "code",
      "execution_count": null,
      "metadata": {
        "colab": {
          "background_save": true
        },
        "id": "UP9lhDsj8Lql"
      },
      "outputs": [],
      "source": [
        "from transformers import BertTokenizer, BertModel\n",
        "import torch\n",
        "\n",
        "class QueryUnderstanding:\n",
        "    def __init__(self):\n",
        "        self.tokenizer = BertTokenizer.from_pretrained('bert-base-uncased')\n",
        "        self.model = BertModel.from_pretrained('bert-base-uncased')\n",
        "\n",
        "    def get_query_embedding(self, query):\n",
        "        inputs = self.tokenizer(query, return_tensors='pt')\n",
        "        outputs = self.model(**inputs)\n",
        "        return outputs.last_hidden_state.mean(dim=1)\n",
        "\n",
        "query_understanding = QueryUnderstanding()\n",
        "query_embedding = query_understanding.get_query_embedding(\"What are the side effects of Aspirin?\")\n",
        "print(query_embedding)\n"
      ]
    },
    {
      "cell_type": "markdown",
      "source": [
        "RAG"
      ],
      "metadata": {
        "id": "96Jem5U_uvPe"
      }
    },
    {
      "cell_type": "code",
      "source": [
        "from transformers import RagTokenizer, RagRetriever, RagSequenceForGeneration\n",
        "\n",
        "class RAGModel:\n",
        "    def __init__(self):\n",
        "        self.tokenizer = RagTokenizer.from_pretrained(\"facebook/rag-token-base\")\n",
        "        self.retriever = RagRetriever.from_pretrained(\"facebook/rag-token-base\", index_name=\"exact\", passages_path=\"path/to/your/passage_dataset\")\n",
        "        self.model = RagSequenceForGeneration.from_pretrained(\"facebook/rag-token-base\", retriever=self.retriever)\n",
        "\n",
        "    def generate_answer(self, query):\n",
        "        input_ids = self.tokenizer(query, return_tensors=\"pt\").input_ids\n",
        "        generated = self.model.generate(input_ids)\n",
        "        return self.tokenizer.batch_decode(generated, skip_special_tokens=True)\n",
        "\n",
        "rag_model = RAGModel()\n",
        "answer = rag_model.generate_answer(\"What are the side effects of Aspirin?\")\n",
        "print(answer)\n"
      ],
      "metadata": {
        "id": "soU-RntbutxJ"
      },
      "execution_count": null,
      "outputs": []
    },
    {
      "cell_type": "markdown",
      "source": [
        "NER"
      ],
      "metadata": {
        "id": "fhAvluKNu2Db"
      }
    },
    {
      "cell_type": "code",
      "execution_count": null,
      "metadata": {
        "id": "RTMSbESA8LoO"
      },
      "outputs": [],
      "source": [
        "from transformers import AutoTokenizer, AutoModelForTokenClassification\n",
        "from transformers import pipeline\n",
        "\n",
        "class NERModel:\n",
        "    def __init__(self):\n",
        "        self.tokenizer = AutoTokenizer.from_pretrained(\"dbmdz/bert-large-cased-finetuned-conll03-english\")\n",
        "        self.model = AutoModelForTokenClassification.from_pretrained(\"dbmdz/bert-large-cased-finetuned-conll03-english\")\n",
        "        self.nlp = pipeline(\"ner\", model=self.model, tokenizer=self.tokenizer)\n",
        "\n",
        "    def get_entities(self, text):\n",
        "        return self.nlp(text)\n",
        "\n",
        "ner_model = NERModel()\n",
        "entities = ner_model.get_entities(\"Aspirin may cause stomach upset, heartburn, or nausea.\")\n",
        "print(entities)\n"
      ]
    },
    {
      "cell_type": "markdown",
      "source": [
        "Flask"
      ],
      "metadata": {
        "id": "jLp7GGiJu65U"
      }
    },
    {
      "cell_type": "code",
      "execution_count": null,
      "metadata": {
        "id": "gSdpcKIw8Ll5"
      },
      "outputs": [],
      "source": [
        "from flask import Flask, request, jsonify\n",
        "\n",
        "app = Flask(__name__)\n",
        "\n",
        "query_understanding = QueryUnderstanding()\n",
        "rag_model = RAGModel()\n",
        "ner_model = NERModel()\n",
        "\n",
        "@app.route('/query', methods=['POST'])\n",
        "def query():\n",
        "    data = request.json\n",
        "    query = data['query']\n",
        "\n",
        "    # Understand the query\n",
        "    query_embedding = query_understanding.get_query_embedding(query)\n",
        "\n",
        "    # Generate the answer\n",
        "    answer = rag_model.generate_answer(query)\n",
        "\n",
        "    # Extract entities\n",
        "    entities = ner_model.get_entities(answer[0])\n",
        "\n",
        "    return jsonify({\n",
        "        'query': query,\n",
        "        'answer': answer[0],\n",
        "        'entities': entities\n",
        "    })\n",
        "\n",
        "if __name__ == '__main__':\n",
        "    app.run(debug=True)\n"
      ]
    },
    {
      "cell_type": "code",
      "execution_count": null,
      "metadata": {
        "id": "ilsEnKJd8Ljk"
      },
      "outputs": [],
      "source": [
        "python app.py\n"
      ]
    },
    {
      "cell_type": "code",
      "execution_count": null,
      "metadata": {
        "id": "4aypWrqF8LeV"
      },
      "outputs": [],
      "source": []
    },
    {
      "cell_type": "code",
      "execution_count": null,
      "metadata": {
        "id": "jdmReQcy8LcC"
      },
      "outputs": [],
      "source": []
    }
  ],
  "metadata": {
    "accelerator": "GPU",
    "colab": {
      "gpuType": "T4",
      "provenance": []
    },
    "kernelspec": {
      "display_name": "Python 3",
      "name": "python3"
    },
    "language_info": {
      "name": "python"
    }
  },
  "nbformat": 4,
  "nbformat_minor": 0
}